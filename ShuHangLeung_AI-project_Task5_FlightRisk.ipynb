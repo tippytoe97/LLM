{
 "cells": [
  {
   "cell_type": "markdown",
   "id": "0f3e6ca7-6fd8-4ffd-922b-aaab8137baca",
   "metadata": {},
   "source": [
    "# Task 5 Flight Risk Idenfication\n",
    "## import library and labeled data"
   ]
  },
  {
   "cell_type": "code",
   "execution_count": 12,
   "id": "a506e1f2-79bf-4ceb-8610-c33c0c371ed1",
   "metadata": {},
   "outputs": [],
   "source": [
    "import pandas as pd\n",
    "df = pd.read_csv(\"test_labeled (6).xls\")\n",
    "df['date'] = pd.to_datetime(df['date'])\n",
    "negatives = df[df['sentiment'] == 'negative'].copy()\n",
    "negatives.sort_values(by=['from', 'date'], inplace=True)"
   ]
  },
  {
   "cell_type": "code",
   "execution_count": 15,
   "id": "d560c8e8-f000-4245-b113-9998f147ccea",
   "metadata": {},
   "outputs": [],
   "source": [
    "# This will hold flight-risk flags\n",
    "negatives['flight_risk'] = False\n",
    "\n",
    "# Group by employee and apply rolling window logic\n",
    "for emp_id, group in negatives.groupby('from'):\n",
    "    group = group.sort_values('date')\n",
    "    dates = group['date'].tolist()\n",
    "    risk_flags = [False] * len(dates)\n",
    "    \n",
    "    for i in range(len(dates)):\n",
    "        # Count how many emails are within the 30-day window ending at current email\n",
    "        window_start = dates[i] - pd.Timedelta(days=30)\n",
    "        count = sum((d >= window_start and d <= dates[i]) for d in dates)\n",
    "        if count >= 4:\n",
    "            risk_flags[i] = True\n",
    "    \n",
    "    negatives.loc[group.index, 'flight_risk'] = risk_flags"
   ]
  },
  {
   "cell_type": "code",
   "execution_count": 16,
   "id": "868babc7-7415-4765-ac1e-343e374e0cfd",
   "metadata": {},
   "outputs": [
    {
     "name": "stdout",
     "output_type": "stream",
     "text": [
      "Flight risk employees: []\n"
     ]
    }
   ],
   "source": [
    "flight_risk_employees = negatives[negatives['flight_risk']]['from'].unique()\n",
    "print(\"Flight risk employees:\", flight_risk_employees)"
   ]
  },
  {
   "cell_type": "code",
   "execution_count": null,
   "id": "196bfb23-47bc-44ee-b00c-683a0ef0cb81",
   "metadata": {},
   "outputs": [],
   "source": []
  }
 ],
 "metadata": {
  "kernelspec": {
   "display_name": "Python [conda env:base] *",
   "language": "python",
   "name": "conda-base-py"
  },
  "language_info": {
   "codemirror_mode": {
    "name": "ipython",
    "version": 3
   },
   "file_extension": ".py",
   "mimetype": "text/x-python",
   "name": "python",
   "nbconvert_exporter": "python",
   "pygments_lexer": "ipython3",
   "version": "3.12.7"
  }
 },
 "nbformat": 4,
 "nbformat_minor": 5
}
